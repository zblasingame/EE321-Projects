{
 "cells": [
  {
   "cell_type": "code",
   "execution_count": 1,
   "metadata": {
    "collapsed": true
   },
   "outputs": [],
   "source": [
    "\"\"\" File to graph several signals using the Fourier Transform\n",
    "    and Fourier Coefficients\n",
    "    Author: Zander Blasingame\n",
    "    Course: EE 321 \"\"\"\n",
    "\n",
    "import numpy as np\n",
    "import plotly.plotly as py\n",
    "import plotly.graph_objs as go"
   ]
  },
  {
   "cell_type": "code",
   "execution_count": 79,
   "metadata": {
    "collapsed": true
   },
   "outputs": [],
   "source": [
    "\"\"\" Function Definitions \"\"\"\n",
    "\n",
    "# Constants\n",
    "N = 2000\n",
    "SIGNAL_RANGE = 40\n",
    "RESOLUTION = 100E-3  # 100ms\n",
    "\n",
    "# define discrete unit impulse\n",
    "d = lambda x: 1 if x == 0 else 0\n",
    "\n",
    "\n",
    "# Construct signal from fourier coefficients\n",
    "# Construct signal from fourier coefficients\n",
    "def construct_signal(X_k, period=1):\n",
    "    return lambda x: np.sum(X_k(k) * np.exp(2j*np.pi*k*x/period)\n",
    "                            for k in range(-N, N, 1))"
   ]
  },
  {
   "cell_type": "markdown",
   "metadata": {},
   "source": [
    "# Problem"
   ]
  },
  {
   "cell_type": "markdown",
   "metadata": {},
   "source": [
    "## Problem 1a"
   ]
  },
  {
   "cell_type": "code",
   "execution_count": 13,
   "metadata": {
    "collapsed": false
   },
   "outputs": [
    {
     "data": {
      "text/latex": [
       "Given the following defintions for fourier coefficients, $X_k$\n",
       "\n",
       "\\[X_k = \\delta(k) + \\frac{1}{4}\\delta(k-1) + \\frac{1}{4}\\delta(k+1) + \\frac{1}{j2}\\delta(k-2) + \\frac{1}{j2}\\delta(k+2)\\]"
      ],
      "text/plain": [
       "<IPython.core.display.Latex object>"
      ]
     },
     "metadata": {},
     "output_type": "display_data"
    }
   ],
   "source": [
    "%%latex\n",
    "Given the following defintions for fourier coefficients, $X_k$\n",
    "\n",
    "\\[X_k = \\delta(k) + \\frac{1}{4}\\delta(k-1) + \\frac{1}{4}\\delta(k+1) + \\frac{1}{j2}\\delta(k-2) + \\frac{1}{j2}\\delta(k+2)\\]"
   ]
  },
  {
   "cell_type": "code",
   "execution_count": 14,
   "metadata": {
    "collapsed": false
   },
   "outputs": [
    {
     "data": {
      "text/html": [
       "<iframe id=\"igraph\" scrolling=\"no\" style=\"border:none;\" seamless=\"seamless\" src=\"https://plot.ly/~blasinzw/68.embed\" height=\"525px\" width=\"100%\"></iframe>"
      ],
      "text/plain": [
       "<plotly.tools.PlotlyDisplay object>"
      ]
     },
     "execution_count": 14,
     "metadata": {},
     "output_type": "execute_result"
    }
   ],
   "source": [
    "\"\"\" Problem 1a \"\"\"\n",
    "X_k = lambda k: d(k) + 0.25*d(k-1) + 0.25*(k+1) - 0.5j*d(k-2) + 0.5j*d(k+2)\n",
    "\n",
    "# Construct and plot signal\n",
    "x = construct_signal(X_k)\n",
    "t = np.arange(-SIGNAL_RANGE/2, SIGNAL_RANGE/2, RESOLUTION)\n",
    "\n",
    "data = [go.Scatter(x=t, y=[x(time).real for time in t])]\n",
    "layout = go.Layout(xaxis=dict(title='Time (s)', showticklabels=True,\n",
    "                              tickmode='linear',\n",
    "                              tickangle=0,\n",
    "                              dtick=5),\n",
    "                   yaxis=dict(title='Amplitude x(t)'),\n",
    "                   title='Signal 1a')\n",
    "\n",
    "fig = go.Figure(data=data, layout=layout)\n",
    "\n",
    "py.iplot(fig, filename='signal_1.png')"
   ]
  },
  {
   "cell_type": "markdown",
   "metadata": {},
   "source": [
    "## Problem 1b"
   ]
  },
  {
   "cell_type": "code",
   "execution_count": 28,
   "metadata": {
    "collapsed": false
   },
   "outputs": [
    {
     "data": {
      "text/latex": [
       "Given the following defintions for fourier coefficients, $X_k$\n",
       "\n",
       "\\[X_k = \\bigg\\{\\begin{align}\n",
       "               &jk \\; &|k| < 3\\\\\n",
       "               &0 &\\text{otherwise}\n",
       "               \\end{align}\\]\n"
      ],
      "text/plain": [
       "<IPython.core.display.Latex object>"
      ]
     },
     "metadata": {},
     "output_type": "display_data"
    }
   ],
   "source": [
    "%%latex\n",
    "Given the following defintions for fourier coefficients, $X_k$\n",
    "\n",
    "\\[X_k = \\bigg\\{\\begin{align}\n",
    "               &jk \\; &|k| < 3\\\\\n",
    "               &0 &\\text{otherwise}\n",
    "               \\end{align}\\]\n",
    "\n"
   ]
  },
  {
   "cell_type": "code",
   "execution_count": 26,
   "metadata": {
    "collapsed": false
   },
   "outputs": [
    {
     "data": {
      "text/html": [
       "<iframe id=\"igraph\" scrolling=\"no\" style=\"border:none;\" seamless=\"seamless\" src=\"https://plot.ly/~blasinzw/70.embed\" height=\"525px\" width=\"100%\"></iframe>"
      ],
      "text/plain": [
       "<plotly.tools.PlotlyDisplay object>"
      ]
     },
     "execution_count": 26,
     "metadata": {},
     "output_type": "execute_result"
    }
   ],
   "source": [
    "\"\"\" Problem 1b \"\"\"\n",
    "X_k = lambda k: 1j*k if abs(k) < 3 else 0\n",
    "\n",
    "# Construct and plot signal\n",
    "x = construct_signal(X_k)\n",
    "t = np.arange(-SIGNAL_RANGE/2, SIGNAL_RANGE/2, RESOLUTION)\n",
    "\n",
    "data = [go.Scatter(x=t, y=[x(time).real for time in t])]\n",
    "layout = go.Layout(xaxis=dict(title='Time (s)', showticklabels=True,\n",
    "                              tickmode='linear',\n",
    "                              tickangle=0,\n",
    "                              dtick=5),\n",
    "                   yaxis=dict(title='Amplitude x(t)'),\n",
    "                   title='Signal 1b')\n",
    "\n",
    "fig = go.Figure(data=data, layout=layout)\n",
    "\n",
    "py.iplot(fig, filename='signal_2.png')"
   ]
  },
  {
   "cell_type": "markdown",
   "metadata": {},
   "source": [
    "# Problem 2"
   ]
  },
  {
   "cell_type": "code",
   "execution_count": 69,
   "metadata": {
    "collapsed": false
   },
   "outputs": [
    {
     "data": {
      "text/latex": [
       "\n",
       "Let the reconstructed signal, $\\hat{x}(t)$ given $N$ components be defined as follows\n",
       "\\begin{equation}\n",
       "\\hat{x}(t) = \\sum_{k=-N}^N X_ke^{jk\\omega_0t}\n",
       "\\end{equation}\n",
       "Moreover, let the mean squared error between the original signal, $x(t)$ and the reconstructed signal be given by\n",
       "\\begin{equation}\n",
       "\\mathbb{E}(N) = \\frac{1}{T} \\int_0^T |x(t) - \\hat{x}(t)|^2 dt\n",
       "\\end{equation}\n",
       "In a discrete form this is represented as\n",
       "\\begin{equation}\n",
       "\\mathbb{E}(N) = \\frac{1}{N} \\sum_{n=1}^N |x(n) - \\hat{x}(n)|^2\n",
       "\\end{equation}\n",
       "Let the complex Fourier coefficients be expressed as\n",
       "\\[X_k = \\frac{1}{T} \\int_{t_0}^{t_0 + \\frac{T}{2}} x(t)e^{-j\\frac{2\\pi kt}{P}}dt\\]"
      ],
      "text/plain": [
       "<IPython.core.display.Latex object>"
      ]
     },
     "metadata": {},
     "output_type": "display_data"
    }
   ],
   "source": [
    "%%latex\n",
    "\n",
    "Let the reconstructed signal, $\\hat{x}(t)$ given $N$ components be defined as follows\n",
    "\\begin{equation}\n",
    "\\hat{x}(t) = \\sum_{k=-N}^N X_ke^{jk\\omega_0t}\n",
    "\\end{equation}\n",
    "Moreover, let the mean squared error between the original signal, $x(t)$ and the reconstructed signal be given by\n",
    "\\begin{equation}\n",
    "\\mathbb{E}(N) = \\frac{1}{T} \\int_0^T |x(t) - \\hat{x}(t)|^2 dt\n",
    "\\end{equation}\n",
    "In a discrete form this is represented as\n",
    "\\begin{equation}\n",
    "\\mathbb{E}(N) = \\frac{1}{N} \\sum_{n=1}^N |x(n) - \\hat{x}(n)|^2\n",
    "\\end{equation}\n",
    "Let the complex Fourier coefficients be expressed as\n",
    "\\[X_k = \\frac{1}{T} \\int_{t_0}^{t_0 + \\frac{T}{2}} x(t)e^{-j\\frac{2\\pi kt}{P}}dt\\]"
   ]
  },
  {
   "cell_type": "markdown",
   "metadata": {},
   "source": [
    "## Problem 2a"
   ]
  },
  {
   "cell_type": "code",
   "execution_count": 77,
   "metadata": {
    "collapsed": false
   },
   "outputs": [
    {
     "data": {
      "text/latex": [
       "Let $x_1(t)$ be defined as\n",
       "\n",
       "\\[x_1(t) = \\sum_{n=-\\infty}^{\\infty} u(t-3n) - u(t - 3n - 2)\\]\n",
       "where $u(n)$ is the Heaviside step function. This can be rewritten as\n",
       "\\[x_1(t) = \\sum_{n=-\\infty}^{\\infty} \\text{rect}\\bigg(\\frac{t}{2} - \\frac{3n + 1}{2}\\bigg)\\]\n",
       "To find the complex Fourier coefficients look at two time ranges: [-1, 0] and [0, 2] such that\n",
       "\\[X_k = \\frac{1}{3} \\int_{-1}^{2} x_1(t)e^{-j\\frac{2\\pi kt}{P}}dt\\]\n",
       "This can be simplified to\n",
       "\\[X_k = \\frac{1}{3}\\bigg[ \\int_{-1}^{0} x_1(t)e^{-j\\frac{2\\pi kt}{3}}dt\n",
       "        + \\int_{0}^{2} x_1(t)e^{-j\\frac{2\\pi kt}{3}} dt\\bigg]\\]\n",
       "\\[X_k = \\frac{1}{3}\\bigg[ \\int_{-1}^{0} 0e^{-j\\frac{2\\pi kt}{3}}dt\n",
       "        + \\int_{0}^{2} 1e^{-j\\frac{2\\pi kt}{3}} dt\\bigg]\\]\n",
       "\\[X_k = \\frac{1}{3} \\int_{0}^{2} e^{-j\\frac{2\\pi kt}{3}}dt\\]\n",
       "\\[X_k = \\frac{j}{2\\pi k}\\bigg[e^{-j\\frac{4\\pi k}{3}} - 1 \\bigg]\\]"
      ],
      "text/plain": [
       "<IPython.core.display.Latex object>"
      ]
     },
     "metadata": {},
     "output_type": "display_data"
    }
   ],
   "source": [
    "%%latex\n",
    "Let $x_1(t)$ be defined as\n",
    "\n",
    "\\[x_1(t) = \\sum_{n=-\\infty}^{\\infty} u(t-3n) - u(t - 3n - 2)\\]\n",
    "where $u(n)$ is the Heaviside step function. This can be rewritten as\n",
    "\\[x_1(t) = \\sum_{n=-\\infty}^{\\infty} \\text{rect}\\bigg(\\frac{t}{2} - \\frac{3n + 1}{2}\\bigg)\\]\n",
    "To find the complex Fourier coefficients look at two time ranges: [-1, 0] and [0, 2] such that\n",
    "\\[X_k = \\frac{1}{3} \\int_{-1}^{2} x_1(t)e^{-j\\frac{2\\pi kt}{P}}dt\\]\n",
    "This can be simplified to\n",
    "\\[X_k = \\frac{1}{3}\\bigg[ \\int_{-1}^{0} x_1(t)e^{-j\\frac{2\\pi kt}{3}}dt\n",
    "        + \\int_{0}^{2} x_1(t)e^{-j\\frac{2\\pi kt}{3}} dt\\bigg]\\]\n",
    "\\[X_k = \\frac{1}{3}\\bigg[ \\int_{-1}^{0} 0e^{-j\\frac{2\\pi kt}{3}}dt\n",
    "        + \\int_{0}^{2} 1e^{-j\\frac{2\\pi kt}{3}} dt\\bigg]\\]\n",
    "\\[X_k = \\frac{1}{3} \\int_{0}^{2} e^{-j\\frac{2\\pi kt}{3}}dt\\]\n",
    "\\[X_k = \\frac{j}{2\\pi k}\\bigg[e^{-j\\frac{4\\pi k}{3}} - 1 \\bigg]\\]\n"
   ]
  },
  {
   "cell_type": "code",
   "execution_count": 84,
   "metadata": {
    "collapsed": false
   },
   "outputs": [
    {
     "data": {
      "text/html": [
       "<iframe id=\"igraph\" scrolling=\"no\" style=\"border:none;\" seamless=\"seamless\" src=\"https://plot.ly/~blasinzw/72.embed\" height=\"525px\" width=\"100%\"></iframe>"
      ],
      "text/plain": [
       "<plotly.tools.PlotlyDisplay object>"
      ]
     },
     "execution_count": 84,
     "metadata": {},
     "output_type": "execute_result"
    }
   ],
   "source": [
    "\"\"\" Problem 2a \"\"\"\n",
    "# added term to avoid dividing by zero\n",
    "X_k = lambda k: 1j/(2*np.pi*k + 1E-9) * (np.exp(-1j*4*np.pi*k/3) - 1) + 2/3*d(k)\n",
    "\n",
    "# Construct and plot signal\n",
    "x = construct_signal(X_k, 3)\n",
    "t = np.arange(-SIGNAL_RANGE/2, SIGNAL_RANGE/2, RESOLUTION)\n",
    "\n",
    "data = [go.Scatter(x=t, y=[x(time).real for time in t])]\n",
    "layout = go.Layout(xaxis=dict(title='Time (s)', showticklabels=True,\n",
    "                              tickmode='linear',\n",
    "                              tickangle=0,\n",
    "                              dtick=5),\n",
    "                   yaxis=dict(title='Amplitude x(t)'),\n",
    "                   title='Signal 2a')\n",
    "\n",
    "fig = go.Figure(data=data, layout=layout)\n",
    "\n",
    "\n",
    "py.iplot(fig, filename='signal_3.png')"
   ]
  },
  {
   "cell_type": "code",
   "execution_count": null,
   "metadata": {
    "collapsed": true
   },
   "outputs": [],
   "source": []
  },
  {
   "cell_type": "code",
   "execution_count": null,
   "metadata": {
    "collapsed": true
   },
   "outputs": [],
   "source": []
  }
 ],
 "metadata": {
  "kernelspec": {
   "display_name": "Python 3",
   "language": "python",
   "name": "python3"
  },
  "language_info": {
   "codemirror_mode": {
    "name": "ipython",
    "version": 3
   },
   "file_extension": ".py",
   "mimetype": "text/x-python",
   "name": "python",
   "nbconvert_exporter": "python",
   "pygments_lexer": "ipython3",
   "version": "3.5.2"
  }
 },
 "nbformat": 4,
 "nbformat_minor": 0
}
