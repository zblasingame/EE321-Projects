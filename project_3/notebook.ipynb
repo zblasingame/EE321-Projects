{
 "cells": [
  {
   "cell_type": "code",
   "execution_count": 38,
   "metadata": {
    "collapsed": true
   },
   "outputs": [],
   "source": [
    "\"\"\" File to graph several signals using the Fourier Transform\n",
    "    and Fourier Coefficients\n",
    "    Author: Zander Blasingame\n",
    "    Course: EE 321 \"\"\"\n",
    "\n",
    "import numpy as np\n",
    "from scipy import signal\n",
    "import plotly.plotly as py\n",
    "import plotly.graph_objs as go"
   ]
  },
  {
   "cell_type": "code",
   "execution_count": 40,
   "metadata": {
    "collapsed": true
   },
   "outputs": [],
   "source": [
    "\"\"\" Function Definitions \"\"\"\n",
    "\n",
    "# Constants\n",
    "N = 2000\n",
    "SIGNAL_RANGE = 40\n",
    "RESOLUTION = 100E-3  # 100ms\n",
    "\n",
    "# define discrete unit impulse\n",
    "d = lambda x: 1 if x == 0 else 0\n",
    "\n",
    "\n",
    "# Construct signal from fourier coefficients\n",
    "def construct_signal(X_k, period=2*np.pi, N=N):\n",
    "    return lambda x: np.sum(X_k(k) * np.exp(2j*np.pi*k*x/period)\n",
    "                            for k in range(-N, N, 1))\n",
    "\n",
    "\n",
    "def mean_squared_error(signal_1, signal_2, N=N):\n",
    "    return 1/N * np.sum(np.abs(signal_1(n) - signal_2(n))**2\n",
    "                        for n in range(1, N))"
   ]
  },
  {
   "cell_type": "markdown",
   "metadata": {},
   "source": [
    "# Problems"
   ]
  },
  {
   "cell_type": "markdown",
   "metadata": {},
   "source": [
    "## Problem 1a"
   ]
  },
  {
   "cell_type": "code",
   "execution_count": 3,
   "metadata": {
    "collapsed": false
   },
   "outputs": [
    {
     "data": {
      "text/latex": [
       "Given the following defintions for fourier coefficients, $X_k$\n",
       "\n",
       "\\[X_k = \\delta(k) + \\frac{1}{4}\\delta(k-1) + \\frac{1}{4}\\delta(k+1) + \\frac{1}{j2}\\delta(k-2) + \\frac{1}{j2}\\delta(k+2)\\]"
      ],
      "text/plain": [
       "<IPython.core.display.Latex object>"
      ]
     },
     "metadata": {},
     "output_type": "display_data"
    }
   ],
   "source": [
    "%%latex\n",
    "Given the following defintions for fourier coefficients, $X_k$\n",
    "\n",
    "\\[X_k = \\delta(k) + \\frac{1}{4}\\delta(k-1) + \\frac{1}{4}\\delta(k+1) + \\frac{1}{j2}\\delta(k-2) + \\frac{1}{j2}\\delta(k+2)\\]"
   ]
  },
  {
   "cell_type": "code",
   "execution_count": 41,
   "metadata": {
    "collapsed": false
   },
   "outputs": [
    {
     "data": {
      "text/html": [
       "<iframe id=\"igraph\" scrolling=\"no\" style=\"border:none;\" seamless=\"seamless\" src=\"https://plot.ly/~blasinzw/68.embed\" height=\"525px\" width=\"100%\"></iframe>"
      ],
      "text/plain": [
       "<plotly.tools.PlotlyDisplay object>"
      ]
     },
     "execution_count": 41,
     "metadata": {},
     "output_type": "execute_result"
    }
   ],
   "source": [
    "\"\"\" Problem 1a \"\"\"\n",
    "X_k = lambda k: d(k) + 0.25*d(k-1) + 0.25*(k+1) - 0.5j*d(k-2) + 0.5j*d(k+2)\n",
    "\n",
    "# Construct and plot signal\n",
    "x = construct_signal(X_k)\n",
    "t = np.arange(-SIGNAL_RANGE/2, SIGNAL_RANGE/2, RESOLUTION)\n",
    "\n",
    "data = [go.Scatter(x=t, y=[x(time).real for time in t])]\n",
    "layout = go.Layout(xaxis=dict(title='Time (s)', showticklabels=True,\n",
    "                              tickmode='linear',\n",
    "                              tickangle=0,\n",
    "                              dtick=5),\n",
    "                   yaxis=dict(title='Amplitude x(t)'),\n",
    "                   title='Signal 1a')\n",
    "\n",
    "fig = go.Figure(data=data, layout=layout)\n",
    "\n",
    "py.iplot(fig, filename='signal_1.png')"
   ]
  },
  {
   "cell_type": "markdown",
   "metadata": {},
   "source": [
    "## Problem 1b"
   ]
  },
  {
   "cell_type": "code",
   "execution_count": 5,
   "metadata": {
    "collapsed": false
   },
   "outputs": [
    {
     "data": {
      "text/latex": [
       "Given the following defintions for fourier coefficients, $X_k$\n",
       "\n",
       "\\[X_k = \\bigg\\{\\begin{align}\n",
       "               &jk \\; &|k| < 3\\\\\n",
       "               &0 &\\text{otherwise}\n",
       "               \\end{align}\\]\n"
      ],
      "text/plain": [
       "<IPython.core.display.Latex object>"
      ]
     },
     "metadata": {},
     "output_type": "display_data"
    }
   ],
   "source": [
    "%%latex\n",
    "Given the following defintions for fourier coefficients, $X_k$\n",
    "\n",
    "\\[X_k = \\bigg\\{\\begin{align}\n",
    "               &jk \\; &|k| < 3\\\\\n",
    "               &0 &\\text{otherwise}\n",
    "               \\end{align}\\]\n",
    "\n"
   ]
  },
  {
   "cell_type": "code",
   "execution_count": 42,
   "metadata": {
    "collapsed": false
   },
   "outputs": [
    {
     "data": {
      "text/html": [
       "<iframe id=\"igraph\" scrolling=\"no\" style=\"border:none;\" seamless=\"seamless\" src=\"https://plot.ly/~blasinzw/70.embed\" height=\"525px\" width=\"100%\"></iframe>"
      ],
      "text/plain": [
       "<plotly.tools.PlotlyDisplay object>"
      ]
     },
     "execution_count": 42,
     "metadata": {},
     "output_type": "execute_result"
    }
   ],
   "source": [
    "\"\"\" Problem 1b \"\"\"\n",
    "X_k = lambda k: 1j*k if abs(k) < 3 else 0\n",
    "\n",
    "# Construct and plot signal\n",
    "x = construct_signal(X_k)\n",
    "t = np.arange(-SIGNAL_RANGE/2, SIGNAL_RANGE/2, RESOLUTION)\n",
    "\n",
    "data = [go.Scatter(x=t, y=[x(time).real for time in t])]\n",
    "layout = go.Layout(xaxis=dict(title='Time (s)', showticklabels=True,\n",
    "                              tickmode='linear',\n",
    "                              tickangle=0,\n",
    "                              dtick=5),\n",
    "                   yaxis=dict(title='Amplitude x(t)'),\n",
    "                   title='Signal 1b')\n",
    "\n",
    "fig = go.Figure(data=data, layout=layout)\n",
    "\n",
    "py.iplot(fig, filename='signal_2.png')"
   ]
  },
  {
   "cell_type": "markdown",
   "metadata": {},
   "source": [
    "# Problem 2"
   ]
  },
  {
   "cell_type": "code",
   "execution_count": 17,
   "metadata": {
    "collapsed": false
   },
   "outputs": [
    {
     "data": {
      "text/latex": [
       "\n",
       "Let the reconstructed signal, $\\hat{x}(t)$ given $N$ components be defined as follows\n",
       "\\begin{equation}\n",
       "\\hat{x}(t) = \\sum_{k=-N}^N X_ke^{\\frac{j2\\pi k}{P}t}\n",
       "\\end{equation}\n",
       "Moreover, let the mean squared error between the original signal, $x(t)$ and the reconstructed signal be given by\n",
       "\\begin{equation}\n",
       "\\mathbb{E}(N) = \\frac{1}{T} \\int_0^T |x(t) - \\hat{x}(t)|^2 dt\n",
       "\\end{equation}\n",
       "In a discrete form this is represented as\n",
       "\\begin{equation}\n",
       "\\mathbb{E}(N) = \\frac{1}{N} \\sum_{n=1}^N |x(n) - \\hat{x}(n)|^2\n",
       "\\end{equation}\n",
       "Let the complex Fourier coefficients be expressed as\n",
       "\\[X_k = \\frac{1}{T} \\int_{t_0}^{t_0 + \\frac{T}{2}} x(t)e^{-j\\frac{2\\pi kt}{P}}dt\\]"
      ],
      "text/plain": [
       "<IPython.core.display.Latex object>"
      ]
     },
     "metadata": {},
     "output_type": "display_data"
    }
   ],
   "source": [
    "%%latex\n",
    "\n",
    "Let the reconstructed signal, $\\hat{x}(t)$ given $N$ components be defined as follows\n",
    "\\begin{equation}\n",
    "\\hat{x}(t) = \\sum_{k=-N}^N X_ke^{\\frac{j2\\pi k}{P}t}\n",
    "\\end{equation}\n",
    "Moreover, let the mean squared error between the original signal, $x(t)$ and the reconstructed signal be given by\n",
    "\\begin{equation}\n",
    "\\mathbb{E}(N) = \\frac{1}{T} \\int_0^T |x(t) - \\hat{x}(t)|^2 dt\n",
    "\\end{equation}\n",
    "In a discrete form this is represented as\n",
    "\\begin{equation}\n",
    "\\mathbb{E}(N) = \\frac{1}{N} \\sum_{n=1}^N |x(n) - \\hat{x}(n)|^2\n",
    "\\end{equation}\n",
    "Let the complex Fourier coefficients be expressed as\n",
    "\\[X_k = \\frac{1}{T} \\int_{t_0}^{t_0 + \\frac{T}{2}} x(t)e^{-j\\frac{2\\pi kt}{P}}dt\\]"
   ]
  },
  {
   "cell_type": "markdown",
   "metadata": {},
   "source": [
    "## Problem 2a"
   ]
  },
  {
   "cell_type": "code",
   "execution_count": 73,
   "metadata": {
    "collapsed": false
   },
   "outputs": [
    {
     "data": {
      "text/latex": [
       "Let $x_1(t)$ be defined as\n",
       "\n",
       "\\[x_1(t) = \\sum_{n=-\\infty}^{\\infty} u(t-3n) - u(t - 3n - 2)\\]\n",
       "where $u(n)$ is the Heaviside step function. This can be rewritten as\n",
       "\\[x_1(t) = \\sum_{n=-\\infty}^{\\infty} \\text{rect}\\bigg(\\frac{t}{2} - \\frac{3n + 1}{2}\\bigg)\\]\n",
       "To find the complex Fourier coefficients look at two time ranges: [-1, 0] and [0, 2] such that\n",
       "\\[X_k = \\frac{1}{3} \\int_{-1}^{2} x_1(t)e^{-j\\frac{2\\pi kt}{3}}dt\\]\n",
       "This can be simplified to\n",
       "\\[X_k = \\frac{1}{3}\\bigg[ \\int_{-1}^{0} x_1(t)e^{-j\\frac{2\\pi kt}{3}}dt\n",
       "        + \\int_{0}^{2} x_1(t)e^{-j\\frac{2\\pi kt}{3}} dt\\bigg]\\]\n",
       "\\[X_k = \\frac{1}{3}\\bigg[ \\int_{-1}^{0} 0e^{-j\\frac{2\\pi kt}{3}}dt\n",
       "        + \\int_{0}^{2} 1e^{-j\\frac{2\\pi kt}{3}} dt\\bigg]\\]\n",
       "\\[X_k = \\frac{1}{3} \\int_{0}^{2} e^{-j\\frac{2\\pi kt}{3}}dt\\]\n",
       "\\[X_k = \\frac{j}{2\\pi k}\\bigg[e^{-j\\frac{4\\pi k}{3}} - 1 \\bigg]\\]"
      ],
      "text/plain": [
       "<IPython.core.display.Latex object>"
      ]
     },
     "metadata": {},
     "output_type": "display_data"
    }
   ],
   "source": [
    "%%latex\n",
    "Let $x_1(t)$ be defined as\n",
    "\n",
    "\\[x_1(t) = \\sum_{n=-\\infty}^{\\infty} u(t-3n) - u(t - 3n - 2)\\]\n",
    "where $u(n)$ is the Heaviside step function. This can be rewritten as\n",
    "\\[x_1(t) = \\sum_{n=-\\infty}^{\\infty} \\text{rect}\\bigg(\\frac{t}{2} - \\frac{3n + 1}{2}\\bigg)\\]\n",
    "To find the complex Fourier coefficients look at two time ranges: [-1, 0] and [0, 2] such that\n",
    "\\[X_k = \\frac{1}{3} \\int_{-1}^{2} x_1(t)e^{-j\\frac{2\\pi kt}{3}}dt\\]\n",
    "This can be simplified to\n",
    "\\[X_k = \\frac{1}{3}\\bigg[ \\int_{-1}^{0} x_1(t)e^{-j\\frac{2\\pi kt}{3}}dt\n",
    "        + \\int_{0}^{2} x_1(t)e^{-j\\frac{2\\pi kt}{3}} dt\\bigg]\\]\n",
    "\\[X_k = \\frac{1}{3}\\bigg[ \\int_{-1}^{0} 0e^{-j\\frac{2\\pi kt}{3}}dt\n",
    "        + \\int_{0}^{2} 1e^{-j\\frac{2\\pi kt}{3}} dt\\bigg]\\]\n",
    "\\[X_k = \\frac{1}{3} \\int_{0}^{2} e^{-j\\frac{2\\pi kt}{3}}dt\\]\n",
    "\\[X_k = \\frac{j}{2\\pi k}\\bigg[e^{-j\\frac{4\\pi k}{3}} - 1 \\bigg]\\]\n"
   ]
  },
  {
   "cell_type": "code",
   "execution_count": 43,
   "metadata": {
    "collapsed": false
   },
   "outputs": [
    {
     "data": {
      "text/html": [
       "<iframe id=\"igraph\" scrolling=\"no\" style=\"border:none;\" seamless=\"seamless\" src=\"https://plot.ly/~blasinzw/72.embed\" height=\"525px\" width=\"100%\"></iframe>"
      ],
      "text/plain": [
       "<plotly.tools.PlotlyDisplay object>"
      ]
     },
     "execution_count": 43,
     "metadata": {},
     "output_type": "execute_result"
    }
   ],
   "source": [
    "\"\"\" Problem 2a \"\"\"\n",
    "# added term to avoid dividing by zero\n",
    "X_k = lambda k: 1j/(2*np.pi*k + 1E-9) * (np.exp(-1j*4*np.pi*k/3) - 1) + 2/3*d(k)\n",
    "\n",
    "# Construct and plot signal\n",
    "x = construct_signal(X_k, 3)\n",
    "t = np.arange(-SIGNAL_RANGE/2, SIGNAL_RANGE/2, RESOLUTION)\n",
    "\n",
    "data = [go.Scatter(x=t, y=[x(time).real for time in t])]\n",
    "layout = go.Layout(xaxis=dict(title='Time (s)', showticklabels=True,\n",
    "                              tickmode='linear',\n",
    "                              tickangle=0,\n",
    "                              dtick=5),\n",
    "                   yaxis=dict(title='Amplitude x(t)'),\n",
    "                   title='Signal 2a')\n",
    "\n",
    "fig = go.Figure(data=data, layout=layout)\n",
    "\n",
    "\n",
    "py.iplot(fig, filename='signal_3.png')\n"
   ]
  },
  {
   "cell_type": "code",
   "execution_count": 57,
   "metadata": {
    "collapsed": false
   },
   "outputs": [
    {
     "data": {
      "text/html": [
       "<iframe id=\"igraph\" scrolling=\"no\" style=\"border:none;\" seamless=\"seamless\" src=\"https://plot.ly/~blasinzw/74.embed\" height=\"525px\" width=\"100%\"></iframe>"
      ],
      "text/plain": [
       "<plotly.tools.PlotlyDisplay object>"
      ]
     },
     "execution_count": 57,
     "metadata": {},
     "output_type": "execute_result"
    }
   ],
   "source": [
    "# ideal signal\n",
    "x_ideal = lambda t: signal.square(2/3*np.pi*t, duty=2/3)/2 + 1/2\n",
    "num_components = [n for n in range(1, 100, 1)]\n",
    "errors = [mean_squared_error(construct_signal(X_k, 3, N=n), x_ideal, N=n) for n in num_components]\n",
    "\n",
    "# data = [go.Scatter(x=t, y=[construct_signal(X_k, 3)(time).real - x_ideal(time) for time in t])]\n",
    "data = [go.Scatter(x=num_components, y=errors)]\n",
    "layout = go.Layout(xaxis=dict(title='N', showticklabels=True,\n",
    "                              tickmode='linear',\n",
    "                              tickangle=0,\n",
    "                              dtick=5),\n",
    "                   yaxis=dict(title='Error'),\n",
    "                   title='Reconstruction Error 2a')\n",
    "\n",
    "fig = go.Figure(data=data, layout=layout)\n",
    "\n",
    "py.iplot(fig, filename='rec_err_1.png')"
   ]
  },
  {
   "cell_type": "code",
   "execution_count": 101,
   "metadata": {
    "collapsed": false
   },
   "outputs": [
    {
     "data": {
      "text/latex": [
       "Let $x_2(t)$ be defined as\n",
       "\n",
       "\\[x_2(t) = \\sum_{n=-\\infty}^{\\infty} \\text{tri}(t-(2n+1))\\]\n",
       "where $\\text{tri}(t)$ is the triangular pulse. This can be expressed as\n",
       "\\begin{equation}\n",
       "\\text{tri}(t) = \\text{rect}(t/2)(1-|t|)\n",
       "\\end{equation}\n",
       "The Fourier coefficients can be expressed as\n",
       "\\begin{equation}\n",
       "X_k = \\frac{1}{2} \\int_{0}^{2} \\text{tri}(t)\\cdot e^{-j\\pi kt}dt\n",
       "\\end{equation}\n",
       "Further simplification yields the following\n",
       "\\begin{align*}\n",
       "X_k &= \\frac{1}{2}\\bigg[\\int_{-1}^{0} -t \\cdot e^{-j\\pi kt}dt\n",
       "        + \\int_{0}^{1} t \\cdot e^{-j\\pi kt}dt\\bigg]\n",
       "\\end{align*}\n",
       "By reversing the bounds of integration\n",
       "\\begin{align*}\n",
       "X_k &= \\int_0^1 t\\cdot e^{-j\\pi kt}dt\\\\\n",
       "X_k &= \\frac{j\\pi kte^{-j\\pi kt} + e^{-j\\pi kt}}{\\pi^2k^2}\\bigg|_0^1\\\\\n",
       "X_k &= \\frac{(j\\pi k + 1)e^{-j\\pi k} - 1}{\\pi^2k^2}\n",
       "\\end{align*}"
      ],
      "text/plain": [
       "<IPython.core.display.Latex object>"
      ]
     },
     "metadata": {},
     "output_type": "display_data"
    }
   ],
   "source": [
    "%%latex\n",
    "Let $x_2(t)$ be defined as\n",
    "\n",
    "\\[x_2(t) = \\sum_{n=-\\infty}^{\\infty} \\text{tri}(t-(2n+1))\\]\n",
    "where $\\text{tri}(t)$ is the triangular pulse. This can be expressed as\n",
    "\\begin{equation}\n",
    "\\text{tri}(t) = \\text{rect}(t/2)(1-|t|)\n",
    "\\end{equation}\n",
    "The Fourier coefficients can be expressed as\n",
    "\\begin{equation}\n",
    "X_k = \\frac{1}{2} \\int_{0}^{2} \\text{tri}(t)\\cdot e^{-j\\pi kt}dt\n",
    "\\end{equation}\n",
    "Further simplification yields the following\n",
    "\\begin{align*}\n",
    "X_k &= \\frac{1}{2}\\bigg[\\int_{-1}^{0} -t \\cdot e^{-j\\pi kt}dt\n",
    "        + \\int_{0}^{1} t \\cdot e^{-j\\pi kt}dt\\bigg]\n",
    "\\end{align*}\n",
    "By reversing the bounds of integration\n",
    "\\begin{align*}\n",
    "X_k &= \\int_0^1 t\\cdot e^{-j\\pi kt}dt\\\\\n",
    "X_k &= \\frac{j\\pi kte^{-j\\pi kt} + e^{-j\\pi kt}}{\\pi^2k^2}\\bigg|_0^1\\\\\n",
    "X_k &= \\frac{(j\\pi k + 1)e^{-j\\pi k} - 1}{\\pi^2k^2}\n",
    "\\end{align*}"
   ]
  },
  {
   "cell_type": "code",
   "execution_count": 102,
   "metadata": {
    "collapsed": false
   },
   "outputs": [
    {
     "ename": "PlotlyError",
     "evalue": "Request throttled. You've created/updated more charts than your allowed limit of 50/day. You may either wait one day or upgrade your account. Visit https://plot.ly/settings/subscription/ to upgrade.",
     "output_type": "error",
     "traceback": [
      "\u001b[0;31m---------------------------------------------------------------------------\u001b[0m",
      "\u001b[0;31mPlotlyError\u001b[0m                               Traceback (most recent call last)",
      "\u001b[0;32m<ipython-input-102-7cc5099b289b>\u001b[0m in \u001b[0;36m<module>\u001b[0;34m()\u001b[0m\n\u001b[1;32m     21\u001b[0m \u001b[0;34m\u001b[0m\u001b[0m\n\u001b[1;32m     22\u001b[0m \u001b[0;34m\u001b[0m\u001b[0m\n\u001b[0;32m---> 23\u001b[0;31m \u001b[0mpy\u001b[0m\u001b[0;34m.\u001b[0m\u001b[0miplot\u001b[0m\u001b[0;34m(\u001b[0m\u001b[0mfig\u001b[0m\u001b[0;34m,\u001b[0m \u001b[0mfilename\u001b[0m\u001b[0;34m=\u001b[0m\u001b[0;34m'signal_4.png'\u001b[0m\u001b[0;34m)\u001b[0m\u001b[0;34m\u001b[0m\u001b[0m\n\u001b[0m",
      "\u001b[0;32m/usr/lib/python3.5/site-packages/plotly/plotly/plotly.py\u001b[0m in \u001b[0;36miplot\u001b[0;34m(figure_or_data, **plot_options)\u001b[0m\n\u001b[1;32m    149\u001b[0m     \u001b[0;32mif\u001b[0m \u001b[0;34m'auto_open'\u001b[0m \u001b[0;32mnot\u001b[0m \u001b[0;32min\u001b[0m \u001b[0mplot_options\u001b[0m\u001b[0;34m:\u001b[0m\u001b[0;34m\u001b[0m\u001b[0m\n\u001b[1;32m    150\u001b[0m         \u001b[0mplot_options\u001b[0m\u001b[0;34m[\u001b[0m\u001b[0;34m'auto_open'\u001b[0m\u001b[0;34m]\u001b[0m \u001b[0;34m=\u001b[0m \u001b[0;32mFalse\u001b[0m\u001b[0;34m\u001b[0m\u001b[0m\n\u001b[0;32m--> 151\u001b[0;31m     \u001b[0murl\u001b[0m \u001b[0;34m=\u001b[0m \u001b[0mplot\u001b[0m\u001b[0;34m(\u001b[0m\u001b[0mfigure_or_data\u001b[0m\u001b[0;34m,\u001b[0m \u001b[0;34m**\u001b[0m\u001b[0mplot_options\u001b[0m\u001b[0;34m)\u001b[0m\u001b[0;34m\u001b[0m\u001b[0m\n\u001b[0m\u001b[1;32m    152\u001b[0m \u001b[0;34m\u001b[0m\u001b[0m\n\u001b[1;32m    153\u001b[0m     \u001b[0;32mif\u001b[0m \u001b[0misinstance\u001b[0m\u001b[0;34m(\u001b[0m\u001b[0mfigure_or_data\u001b[0m\u001b[0;34m,\u001b[0m \u001b[0mdict\u001b[0m\u001b[0;34m)\u001b[0m\u001b[0;34m:\u001b[0m\u001b[0;34m\u001b[0m\u001b[0m\n",
      "\u001b[0;32m/usr/lib/python3.5/site-packages/plotly/plotly/plotly.py\u001b[0m in \u001b[0;36mplot\u001b[0;34m(figure_or_data, validate, **plot_options)\u001b[0m\n\u001b[1;32m    239\u001b[0m \u001b[0;34m\u001b[0m\u001b[0m\n\u001b[1;32m    240\u001b[0m     \u001b[0mplot_options\u001b[0m \u001b[0;34m=\u001b[0m \u001b[0m_plot_option_logic\u001b[0m\u001b[0;34m(\u001b[0m\u001b[0mplot_options\u001b[0m\u001b[0;34m)\u001b[0m\u001b[0;34m\u001b[0m\u001b[0m\n\u001b[0;32m--> 241\u001b[0;31m     \u001b[0mres\u001b[0m \u001b[0;34m=\u001b[0m \u001b[0m_send_to_plotly\u001b[0m\u001b[0;34m(\u001b[0m\u001b[0mfigure\u001b[0m\u001b[0;34m,\u001b[0m \u001b[0;34m**\u001b[0m\u001b[0mplot_options\u001b[0m\u001b[0;34m)\u001b[0m\u001b[0;34m\u001b[0m\u001b[0m\n\u001b[0m\u001b[1;32m    242\u001b[0m     \u001b[0;32mif\u001b[0m \u001b[0mres\u001b[0m\u001b[0;34m[\u001b[0m\u001b[0;34m'error'\u001b[0m\u001b[0;34m]\u001b[0m \u001b[0;34m==\u001b[0m \u001b[0;34m''\u001b[0m\u001b[0;34m:\u001b[0m\u001b[0;34m\u001b[0m\u001b[0m\n\u001b[1;32m    243\u001b[0m         \u001b[0;32mif\u001b[0m \u001b[0mplot_options\u001b[0m\u001b[0;34m[\u001b[0m\u001b[0;34m'auto_open'\u001b[0m\u001b[0;34m]\u001b[0m\u001b[0;34m:\u001b[0m\u001b[0;34m\u001b[0m\u001b[0m\n",
      "\u001b[0;32m/usr/lib/python3.5/site-packages/plotly/plotly/plotly.py\u001b[0m in \u001b[0;36m_send_to_plotly\u001b[0;34m(figure, **plot_options)\u001b[0m\n\u001b[1;32m   1429\u001b[0m \u001b[0;34m\u001b[0m\u001b[0m\n\u001b[1;32m   1430\u001b[0m     \u001b[0;32mif\u001b[0m \u001b[0;34m'error'\u001b[0m \u001b[0;32min\u001b[0m \u001b[0mr\u001b[0m \u001b[0;32mand\u001b[0m \u001b[0mr\u001b[0m\u001b[0;34m[\u001b[0m\u001b[0;34m'error'\u001b[0m\u001b[0;34m]\u001b[0m \u001b[0;34m!=\u001b[0m \u001b[0;34m''\u001b[0m\u001b[0;34m:\u001b[0m\u001b[0;34m\u001b[0m\u001b[0m\n\u001b[0;32m-> 1431\u001b[0;31m         \u001b[0;32mraise\u001b[0m \u001b[0mexceptions\u001b[0m\u001b[0;34m.\u001b[0m\u001b[0mPlotlyError\u001b[0m\u001b[0;34m(\u001b[0m\u001b[0mr\u001b[0m\u001b[0;34m[\u001b[0m\u001b[0;34m'error'\u001b[0m\u001b[0;34m]\u001b[0m\u001b[0;34m)\u001b[0m\u001b[0;34m\u001b[0m\u001b[0m\n\u001b[0m\u001b[1;32m   1432\u001b[0m \u001b[0;34m\u001b[0m\u001b[0m\n\u001b[1;32m   1433\u001b[0m     \u001b[0;31m# Check if the url needs a secret key\u001b[0m\u001b[0;34m\u001b[0m\u001b[0;34m\u001b[0m\u001b[0m\n",
      "\u001b[0;31mPlotlyError\u001b[0m: Request throttled. You've created/updated more charts than your allowed limit of 50/day. You may either wait one day or upgrade your account. Visit https://plot.ly/settings/subscription/ to upgrade."
     ]
    }
   ],
   "source": [
    "\"\"\" Problem 2b \"\"\"\n",
    "# X_k = lambda k: (np.exp(-1j*np.pi*k)*(1j*np.pi*k - np.exp(1j*np.pi*k) + 1)\n",
    "#                  + np.exp(-2j*np.pi*k) * (np.exp(1j*np.pi*k) * (1j*np.pi*k - 1) + 1))/(2 * np.pi**2 * k**2)\n",
    "    \n",
    "X_k = lambda k: ((1j*np.pi*k + 1) * np.exp(-1j*np.pi*k) - 1) / (np.pi**2 * k**2)\n",
    "\n",
    "\n",
    "# Construct and plot signal\n",
    "x = construct_signal(X_k, 2)\n",
    "t = np.arange(-SIGNAL_RANGE/2, SIGNAL_RANGE/2, RESOLUTION)\n",
    "\n",
    "data = [go.Scatter(x=t, y=[x(time).real for time in t])]\n",
    "layout = go.Layout(xaxis=dict(title='Time (s)', showticklabels=True,\n",
    "                              tickmode='linear',\n",
    "                              tickangle=0,\n",
    "                              dtick=5),\n",
    "                   yaxis=dict(title='Amplitude x(t)'),\n",
    "                   title='Signal 2b')\n",
    "\n",
    "fig = go.Figure(data=data, layout=layout)\n",
    "\n",
    "\n",
    "py.iplot(fig, filename='signal_4.png')\n"
   ]
  },
  {
   "cell_type": "code",
   "execution_count": null,
   "metadata": {
    "collapsed": true
   },
   "outputs": [],
   "source": []
  },
  {
   "cell_type": "code",
   "execution_count": null,
   "metadata": {
    "collapsed": true
   },
   "outputs": [],
   "source": []
  }
 ],
 "metadata": {
  "kernelspec": {
   "display_name": "Python 3",
   "language": "python",
   "name": "python3"
  },
  "language_info": {
   "codemirror_mode": {
    "name": "ipython",
    "version": 3
   },
   "file_extension": ".py",
   "mimetype": "text/x-python",
   "name": "python",
   "nbconvert_exporter": "python",
   "pygments_lexer": "ipython3",
   "version": "3.5.2"
  }
 },
 "nbformat": 4,
 "nbformat_minor": 0
}
