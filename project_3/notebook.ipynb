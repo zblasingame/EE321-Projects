{
 "cells": [
  {
   "cell_type": "code",
   "execution_count": 123,
   "metadata": {
    "collapsed": true
   },
   "outputs": [],
   "source": [
    "\"\"\" File to graph several signals using the Fourier Transform\n",
    "    and Fourier Coefficients\n",
    "    Author: Zander Blasingame\n",
    "    Course: EE 321 \"\"\"\n",
    "\n",
    "import numpy as np\n",
    "from scipy import signal\n",
    "import plotly.plotly as py\n",
    "import plotly.graph_objs as go"
   ]
  },
  {
   "cell_type": "code",
   "execution_count": 124,
   "metadata": {
    "collapsed": false
   },
   "outputs": [],
   "source": [
    "\"\"\" Function Definitions \"\"\"\n",
    "\n",
    "# Constants\n",
    "N = 2000\n",
    "SIGNAL_RANGE = 40\n",
    "RESOLUTION = 100E-3  # 100ms\n",
    "\n",
    "# define discrete unit impulse\n",
    "d = lambda x: 1 if x == 0 else 0\n",
    "\n",
    "\n",
    "# Construct signal from fourier coefficients\n",
    "def construct_signal(X_k, period=2*np.pi, N=N):\n",
    "    return lambda x: np.sum(X_k(k) * np.exp(2j*np.pi*k*x/period)\n",
    "                            for k in range(-N, N, 1))\n",
    "\n",
    "\n",
    "def mean_squared_error(signal_1, signal_2, N=N):\n",
    "    return 1/N * np.sum(np.abs(signal_1 - signal_2)**2)"
   ]
  },
  {
   "cell_type": "markdown",
   "metadata": {},
   "source": [
    "# Problems"
   ]
  },
  {
   "cell_type": "markdown",
   "metadata": {},
   "source": [
    "## Problem 1a"
   ]
  },
  {
   "cell_type": "code",
   "execution_count": 103,
   "metadata": {
    "collapsed": false
   },
   "outputs": [
    {
     "data": {
      "text/latex": [
       "Given the following defintions for fourier coefficients, $X_k$\n",
       "\n",
       "\\begin{equation*}X_k = \\delta(k) + \\frac{1}{4}\\delta(k-1) + \\frac{1}{4}\\delta(k+1) + \\frac{1}{j2}\\delta(k-2) + \\frac{1}{j2}\\delta(k+2)\\end{equation*}"
      ],
      "text/plain": [
       "<IPython.core.display.Latex object>"
      ]
     },
     "metadata": {},
     "output_type": "display_data"
    }
   ],
   "source": [
    "%%latex\n",
    "Given the following defintions for fourier coefficients, $X_k$\n",
    "\n",
    "\\begin{equation*}X_k = \\delta(k) + \\frac{1}{4}\\delta(k-1) + \\frac{1}{4}\\delta(k+1) + \\frac{1}{j2}\\delta(k-2) - \\frac{1}{j2}\\delta(k+2)\\end{equation*}"
   ]
  },
  {
   "cell_type": "code",
   "execution_count": 120,
   "metadata": {
    "collapsed": false
   },
   "outputs": [
    {
     "data": {
      "text/html": [
       "<iframe id=\"igraph\" scrolling=\"no\" style=\"border:none;\" seamless=\"seamless\" src=\"https://plot.ly/~blasinzw/68.embed\" height=\"525px\" width=\"100%\"></iframe>"
      ],
      "text/plain": [
       "<plotly.tools.PlotlyDisplay object>"
      ]
     },
     "execution_count": 120,
     "metadata": {},
     "output_type": "execute_result"
    }
   ],
   "source": [
    "\"\"\" Problem 1a \"\"\"\n",
    "X_k = lambda k: d(k) + 0.25*d(k-1) + 0.25*d(k+1)- 0.5j*d(k-2) - 0.5j*d(k+2)\n",
    "\n",
    "# Construct and plot signal\n",
    "x = construct_signal(X_k, 2)\n",
    "t = np.arange(-SIGNAL_RANGE/10, SIGNAL_RANGE/10, RESOLUTION)\n",
    "\n",
    "data = [go.Scatter(x=t, y=x(t).real)]\n",
    "layout = go.Layout(xaxis=dict(title='Time (s)', showticklabels=True,\n",
    "                              tickmode='linear',\n",
    "                              tickangle=0,\n",
    "                              dtick=5),\n",
    "                   yaxis=dict(title='Amplitude x(t)'),\n",
    "                   title='Signal 1a')\n",
    "\n",
    "fig = go.Figure(data=data, layout=layout)\n",
    "\n",
    "py.iplot(fig, filename='signal_1.png')"
   ]
  },
  {
   "cell_type": "markdown",
   "metadata": {},
   "source": [
    "## Problem 1b"
   ]
  },
  {
   "cell_type": "code",
   "execution_count": 73,
   "metadata": {
    "collapsed": false
   },
   "outputs": [
    {
     "data": {
      "text/latex": [
       "Given the following definitions for the Fourier coefficients, $X_k$\n",
       "\n",
       "\\begin{equation*}X_k = \\bigg\\{\\begin{matrix}\n",
       "               &jk \\; &|k| < 3\\\\\n",
       "               &0 &\\text{otherwise}\n",
       "               \\end{matrix}\n",
       "\\end{equation*}\n"
      ],
      "text/plain": [
       "<IPython.core.display.Latex object>"
      ]
     },
     "metadata": {},
     "output_type": "display_data"
    }
   ],
   "source": [
    "%%latex\n",
    "Given the following definitions for the Fourier coefficients, $X_k$\n",
    "\n",
    "\\begin{equation*}X_k = \\bigg\\{\\begin{matrix}\n",
    "               &jk \\; &|k| < 3\\\\\n",
    "               &0 &\\text{otherwise}\n",
    "               \\end{matrix}\n",
    "\\end{equation*}\n",
    "\n"
   ]
  },
  {
   "cell_type": "code",
   "execution_count": 42,
   "metadata": {
    "collapsed": false
   },
   "outputs": [
    {
     "data": {
      "text/html": [
       "<iframe id=\"igraph\" scrolling=\"no\" style=\"border:none;\" seamless=\"seamless\" src=\"https://plot.ly/~blasinzw/70.embed\" height=\"525px\" width=\"100%\"></iframe>"
      ],
      "text/plain": [
       "<plotly.tools.PlotlyDisplay object>"
      ]
     },
     "execution_count": 42,
     "metadata": {},
     "output_type": "execute_result"
    }
   ],
   "source": [
    "\"\"\" Problem 1b \"\"\"\n",
    "X_k = lambda k: 1j*k if abs(k) < 3 else 0\n",
    "\n",
    "# Construct and plot signal\n",
    "x = construct_signal(X_k)\n",
    "t = np.arange(-SIGNAL_RANGE/2, SIGNAL_RANGE/2, RESOLUTION)\n",
    "\n",
    "data = [go.Scatter(x=t, y=x(t).real)]\n",
    "layout = go.Layout(xaxis=dict(title='Time (s)', showticklabels=True,\n",
    "                              tickmode='linear',\n",
    "                              tickangle=0,\n",
    "                              dtick=5),\n",
    "                   yaxis=dict(title='Amplitude x(t)'),\n",
    "                   title='Signal 1b')\n",
    "\n",
    "fig = go.Figure(data=data, layout=layout)\n",
    "\n",
    "py.iplot(fig, filename='signal_2.png')"
   ]
  },
  {
   "cell_type": "markdown",
   "metadata": {},
   "source": [
    "# Problem 2"
   ]
  },
  {
   "cell_type": "code",
   "execution_count": 115,
   "metadata": {
    "collapsed": false,
    "scrolled": true
   },
   "outputs": [
    {
     "data": {
      "text/latex": [
       "\n",
       "Let the reconstructed signal, $\\hat{x}(t)$ given $N$ components be defined as follows\n",
       "\\begin{equation}\n",
       "\\hat{x}(t) = \\sum_{k=-N}^N X_ke^{\\frac{j2\\pi k}{T}t}\n",
       "\\end{equation}\n",
       "Moreover, let the mean squared error between the original signal, $x(t)$ and the reconstructed signal be given by\n",
       "\\begin{equation}\n",
       "\\mathbb{E}(N) = \\frac{1}{T} \\int_0^T |x(t) - \\hat{x}(t)|^2 dt\n",
       "\\end{equation}\n",
       "In a discrete form this is represented as\n",
       "\\begin{equation}\n",
       "\\mathbb{E}(N) = \\frac{1}{N} \\sum_{n=1}^N |x(n) - \\hat{x}(n)|^2\n",
       "\\end{equation}\n",
       "Let the complex Fourier coefficients be expressed as\n",
       "\\begin{equation*}X_k = \\frac{1}{T} \\int_{t_0}^{t_0 + \\frac{T}{2}} x(t)e^{-j\\frac{2\\pi kt}{T}}dt\\end{equation*}"
      ],
      "text/plain": [
       "<IPython.core.display.Latex object>"
      ]
     },
     "metadata": {},
     "output_type": "display_data"
    }
   ],
   "source": [
    "%%latex\n",
    "\n",
    "Let the reconstructed signal, $\\hat{x}(t)$ given $N$ components be defined as follows\n",
    "\\begin{equation}\n",
    "\\hat{x}(t) = \\sum_{k=-N}^N X_ke^{\\frac{j2\\pi k}{T}t}\n",
    "\\end{equation}\n",
    "Moreover, let the mean squared error between the original signal, $x(t)$ and the reconstructed signal be given by\n",
    "\\begin{equation}\n",
    "\\mathbb{E}(N) = \\frac{1}{T} \\int_0^T |x(t) - \\hat{x}(t)|^2 dt\n",
    "\\end{equation}\n",
    "In a discrete form this is represented as\n",
    "\\begin{equation}\n",
    "\\mathbb{E}(N) = \\frac{1}{N} \\sum_{n=1}^N |x(n) - \\hat{x}(n)|^2\n",
    "\\end{equation}\n",
    "Let the complex Fourier coefficients be expressed as\n",
    "\\begin{equation*}X_k = \\frac{1}{T} \\int_{t_0}^{t_0 + \\frac{T}{2}} x(t)e^{-j\\frac{2\\pi kt}{T}}dt\\end{equation*}"
   ]
  },
  {
   "cell_type": "markdown",
   "metadata": {},
   "source": [
    "## Problem 2a"
   ]
  },
  {
   "cell_type": "code",
   "execution_count": 48,
   "metadata": {
    "collapsed": false
   },
   "outputs": [
    {
     "data": {
      "text/latex": [
       "Let $x_1(t)$ be defined as\n",
       "\n",
       "\\begin{equation*}x_1(t) = \\sum_{n=-\\infty}^{\\infty} u(t-3n) - u(t - 3n - 2)\\end{equation*}\n",
       "where $u(n)$ is the Heaviside step function. This can be rewritten as\n",
       "\\begin{equation*}x_1(t) = \\sum_{n=-\\infty}^{\\infty} \\text{rect}\\bigg(\\frac{t}{2} - \\frac{3n + 1}{2}\\bigg)\\end{equation*}\n",
       "To find the complex Fourier coefficients look at two time ranges: [-1, 0] and [0, 2] such that\n",
       "\\begin{equation*}X_k = \\frac{1}{3} \\int_{-1}^{2} x_1(t)e^{-j\\frac{2\\pi kt}{3}}dt\\end{equation*}\n",
       "This can be simplified to\n",
       "\\begin{equation*}X_k = \\frac{1}{3}\\bigg[ \\int_{-1}^{0} x_1(t)e^{-j\\frac{2\\pi kt}{3}}dt\n",
       "        + \\int_{0}^{2} x_1(t)e^{-j\\frac{2\\pi kt}{3}} dt\\bigg]\\end{equation*}\n",
       "\\begin{equation*}X_k = \\frac{1}{3}\\bigg[ \\int_{-1}^{0} 0e^{-j\\frac{2\\pi kt}{3}}dt\n",
       "        + \\int_{0}^{2} 1e^{-j\\frac{2\\pi kt}{3}} dt\\bigg]\\end{equation*}\n",
       "\\begin{equation*}X_k = \\frac{1}{3} \\int_{0}^{2} e^{-j\\frac{2\\pi kt}{3}}dt\\end{equation*}\n",
       "\\begin{equation*}X_k = \\frac{j}{2\\pi k}\\bigg[e^{-j\\frac{4\\pi k}{3}} - 1 \\bigg]\\end{equation*}\n",
       "$X_0$ is calculated by evaluating the following limit\n",
       "\\begin{align*}\n",
       "X_0 &= \\lim_{k \\to 0} \\frac{j}{2\\pi k}\\bigg[e^{-j\\frac{4\\pi k}{3}} - 1\\bigg]\n",
       "\\end{align*}\n",
       "By using L'Hospital's Rule\n",
       "\\begin{align*}\n",
       "X_0 &= \\lim_{k \\to 0} \\frac{j}{2\\pi k}\\bigg[\\frac{-j4\\pi k}{3}e^{-j\\frac{4\\pi k}{3}} - 0\\bigg]\\\\\n",
       "X_0 &= \\lim_{k \\to 0} \\frac{2}{3}e^{-j\\frac{4\\pi k}{3}}\\\\\n",
       "X_0 &= \\frac{2}{3}\n",
       "\\end{align*}\n",
       "Thus $X_k$ can be rewritten as\n",
       "\\begin{equation*}X_k = \\frac{j}{2\\pi k}\\bigg[e^{-j\\frac{4\\pi k}{3}} - 1 \\bigg] + \\frac{2}{3}\\delta(k)\\end{equation*}"
      ],
      "text/plain": [
       "<IPython.core.display.Latex object>"
      ]
     },
     "metadata": {},
     "output_type": "display_data"
    }
   ],
   "source": [
    "%%latex\n",
    "Let $x_1(t)$ be defined as\n",
    "\n",
    "\\begin{equation*}x_1(t) = \\sum_{n=-\\infty}^{\\infty} u(t-3n) - u(t - 3n - 2)\\end{equation*}\n",
    "where $u(n)$ is the Heaviside step function. This can be rewritten as\n",
    "\\begin{equation*}x_1(t) = \\sum_{n=-\\infty}^{\\infty} \\text{rect}\\bigg(\\frac{t}{2} - \\frac{3n + 1}{2}\\bigg)\\end{equation*}\n",
    "To find the complex Fourier coefficients look at two time ranges: [-1, 0] and [0, 2] such that\n",
    "\\begin{equation*}X_k = \\frac{1}{3} \\int_{-1}^{2} x_1(t)e^{-j\\frac{2\\pi kt}{3}}dt\\end{equation*}\n",
    "This can be simplified to\n",
    "\\begin{equation*}X_k = \\frac{1}{3}\\bigg[ \\int_{-1}^{0} x_1(t)e^{-j\\frac{2\\pi kt}{3}}dt\n",
    "        + \\int_{0}^{2} x_1(t)e^{-j\\frac{2\\pi kt}{3}} dt\\bigg]\\end{equation*}\n",
    "\\begin{equation*}X_k = \\frac{1}{3}\\bigg[ \\int_{-1}^{0} 0e^{-j\\frac{2\\pi kt}{3}}dt\n",
    "        + \\int_{0}^{2} 1e^{-j\\frac{2\\pi kt}{3}} dt\\bigg]\\end{equation*}\n",
    "\\begin{equation*}X_k = \\frac{1}{3} \\int_{0}^{2} e^{-j\\frac{2\\pi kt}{3}}dt\\end{equation*}\n",
    "\\begin{equation*}X_k = \\frac{j}{2\\pi k}\\bigg[e^{-j\\frac{4\\pi k}{3}} - 1 \\bigg]\\end{equation*}\n",
    "$X_0$ is calculated by evaluating the following limit\n",
    "\\begin{align*}\n",
    "X_0 &= \\lim_{k \\to 0} \\frac{j}{2\\pi k}\\bigg[e^{-j\\frac{4\\pi k}{3}} - 1\\bigg]\n",
    "\\end{align*}\n",
    "By using L'Hospital's Rule\n",
    "\\begin{align*}\n",
    "X_0 &= \\lim_{k \\to 0} \\frac{j}{2\\pi k}\\bigg[\\frac{-j4\\pi k}{3}e^{-j\\frac{4\\pi k}{3}} - 0\\bigg]\\\\\n",
    "X_0 &= \\lim_{k \\to 0} \\frac{2}{3}e^{-j\\frac{4\\pi k}{3}}\\\\\n",
    "X_0 &= \\frac{2}{3}\n",
    "\\end{align*}\n",
    "Thus $X_k$ can be rewritten as\n",
    "\\begin{equation*}X_k = \\frac{j}{2\\pi k}\\bigg[e^{-j\\frac{4\\pi k}{3}} - 1 \\bigg] + \\frac{2}{3}\\delta(k)\\end{equation*}\n"
   ]
  },
  {
   "cell_type": "code",
   "execution_count": 125,
   "metadata": {
    "collapsed": false
   },
   "outputs": [
    {
     "data": {
      "text/html": [
       "<iframe id=\"igraph\" scrolling=\"no\" style=\"border:none;\" seamless=\"seamless\" src=\"https://plot.ly/~blasinzw/72.embed\" height=\"525px\" width=\"100%\"></iframe>"
      ],
      "text/plain": [
       "<plotly.tools.PlotlyDisplay object>"
      ]
     },
     "execution_count": 125,
     "metadata": {},
     "output_type": "execute_result"
    }
   ],
   "source": [
    "\"\"\" Problem 2a \"\"\"\n",
    "# added term to avoid dividing by zero\n",
    "X_k = lambda k: 1j/(2*np.pi*k + 1E-9) * (np.exp(-1j*4*np.pi*k/3) - 1) + 2/3*d(k)\n",
    "\n",
    "# Construct and plot signal\n",
    "x = construct_signal(X_k, 3)\n",
    "t = np.arange(0.001, 6, 0.01)\n",
    "\n",
    "data = [go.Scatter(x=t, y=x(t).real)]\n",
    "layout = go.Layout(xaxis=dict(title='Time (s)', showticklabels=True,\n",
    "                              tickmode='linear',\n",
    "                              tickangle=0,\n",
    "                              dtick=5),\n",
    "                   yaxis=dict(title='Amplitude x(t)'),\n",
    "                   title='Signal 2a')\n",
    "\n",
    "fig = go.Figure(data=data, layout=layout)\n",
    "\n",
    "\n",
    "py.iplot(fig, filename='signal_3.png')\n"
   ]
  },
  {
   "cell_type": "code",
   "execution_count": 126,
   "metadata": {
    "collapsed": false
   },
   "outputs": [
    {
     "data": {
      "text/html": [
       "<iframe id=\"igraph\" scrolling=\"no\" style=\"border:none;\" seamless=\"seamless\" src=\"https://plot.ly/~blasinzw/74.embed\" height=\"525px\" width=\"100%\"></iframe>"
      ],
      "text/plain": [
       "<plotly.tools.PlotlyDisplay object>"
      ]
     },
     "execution_count": 126,
     "metadata": {},
     "output_type": "execute_result"
    }
   ],
   "source": [
    "# ideal signal\n",
    "x_ideal = lambda t: signal.square(2/3*np.pi*t, duty=2/3)/2 + 1/2\n",
    "t = np.arange(0.001, 6, 0.01)\n",
    "\n",
    "num_components = np.arange(1,500,10)\n",
    "errors = [mean_squared_error(construct_signal(X_k, 3, N=n)(t), x_ideal(t), N=n)\n",
    "          for n in num_components]\n",
    "\n",
    "data = [go.Scatter(x=num_components, y=errors)]\n",
    "layout = go.Layout(xaxis=dict(title='N', showticklabels=True,\n",
    "                              tickmode='linear',\n",
    "                              tickangle=0,\n",
    "                              dtick=25),\n",
    "                   yaxis=dict(title='Error',\n",
    "                              type='log'),\n",
    "                   title='Reconstruction Error 2a')\n",
    "\n",
    "fig = go.Figure(data=data, layout=layout)\n",
    "\n",
    "py.iplot(fig, filename='rec_err_1.png')"
   ]
  },
  {
   "cell_type": "code",
   "execution_count": 131,
   "metadata": {
    "collapsed": false
   },
   "outputs": [
    {
     "data": {
      "text/latex": [
       "Using the figure above it is found that the mean squared error equals 0.01 at roughly 80 components and it equals 0.001 at roughly 325 components."
      ],
      "text/plain": [
       "<IPython.core.display.Latex object>"
      ]
     },
     "metadata": {},
     "output_type": "display_data"
    }
   ],
   "source": [
    "%%latex\n",
    "Using the figure above it is found that the mean squared error equals 0.01 at roughly 80 components and it equals 0.001 at roughly 325 components."
   ]
  },
  {
   "cell_type": "markdown",
   "metadata": {},
   "source": [
    "## Problem 2b"
   ]
  },
  {
   "cell_type": "code",
   "execution_count": 107,
   "metadata": {
    "collapsed": false
   },
   "outputs": [
    {
     "data": {
      "text/latex": [
       "Let $x_2(t)$ be defined as\n",
       "\n",
       "\\begin{equation*}x_2(t) = \\sum_{n=-\\infty}^{\\infty} \\text{tri}(t-(2n+1))\\end{equation*}\n",
       "where $\\text{tri}(t)$ is the triangular pulse. This can be expressed as\n",
       "\\begin{equation}\n",
       "\\text{tri}(t) = \\text{rect}(t/2)(1-|t|)\n",
       "\\end{equation}\n",
       "The Fourier coefficients can be expressed as\n",
       "\\begin{equation}\n",
       "X_k = \\frac{1}{2} \\int_{-1}^{1} \\text{tri}(t)\\cdot e^{-j\\pi kt}dt\n",
       "\\end{equation}\n",
       "Further simplification yields the following\n",
       "\\begin{align*}\n",
       "X_k &= \\frac{1}{2}\\bigg[\\int_{-1}^{0} -t \\cdot e^{-j\\pi kt}dt\n",
       "        + \\int_{0}^{1} t \\cdot e^{-j\\pi kt}dt\\bigg]\n",
       "\\end{align*}\n",
       "which evaluates to\n",
       "\\begin{align*}\n",
       "X_k &= \\frac{e^{-j\\pi k}\\big(-j\\pi k + e^{j\\pi k} - 1\\big)\n",
       "             + e^{j\\pi k}\\big(j\\pi k - 1\\big) + 1}{-2\\pi^2k^2}\\\\\n",
       "X_k &= \\frac{e^{-j\\pi k}\\big(j\\pi k - e^{j\\pi k} + 1\\big)\n",
       "             - e^{j\\pi k}\\big(j\\pi k - 1\\big) - 1}{2\\pi^2k^2}\\\\\n",
       "X_k &= \\frac{e^{-j\\pi k}\\big(j\\pi k + 1\\big)\n",
       "             - e^{j\\pi k}\\big(j\\pi k - 1\\big) - 2}{2\\pi^2k^2}\\\\\n",
       "X_k &= \\frac{j\\pi k\\big(e^{j\\pi k} - e^{-j\\pi k}\\big) + \\big(e^{j\\pi k} + e^{-j\\pi k}\\big) - 2}{2\\pi^2k^2}\\\\\n",
       "X_k &= \\frac{j\\pi k\\big(2j\\sin(\\pi k)\\big) + \\big(2\\cos(\\pi k)\\big) - 2}{2\\pi^2k^2}\\\\\n",
       "X_k &= \\frac{2\\cos(\\pi k) -2\\pi k\\sin(\\pi k)  - 2}{2\\pi^2k^2}\\\\\n",
       "\\end{align*}\n",
       "It can be shown that $\\cos(\\pi k) = (-1)^k\\; \\forall k \\in \\mathbb{Z}$ and $\\sin(\\pi k) = 0\\; \\forall k \\in \\mathbb{Z}$.\n",
       "Therefore the Fourier coefficients become\n",
       "\\begin{equation}\n",
       "X_k = \\frac{-1 + (-1)^k}{\\pi^2k^2}\n",
       "\\end{equation}\n",
       "\n",
       "To find $X_0$ evaulate the integral definition for the Fourier coefficients\n",
       "with the limit $k\\to 0$ such that\n",
       "\\begin{align*}\n",
       "X_0 &= \\lim_{k\\to 0} \\frac{1}{2}\\bigg[\\int_{-1}^{0} -t \\cdot e^{-j\\pi kt}dt\n",
       "        + \\int_{0}^{1} t \\cdot e^{-j\\pi kt}dt\\bigg]\\\\\n",
       "X_0 &= \\frac{1}{2}\\bigg[\\int_{-1}^{0} -t dt\n",
       "        + \\int_{0}^{1} t dt\\bigg]\\\\\n",
       "X_0 &= \\frac{1}{2}\\bigg[\\frac{-t^2}{2}\\bigg|_{-1}^0\n",
       "        + \\frac{t^2}{t}\\bigg|_0^1\\bigg]\\\\\n",
       "X_0 &= \\frac{1}{2}\n",
       "\\end{align*}\n",
       "Therefore, $X_k$ can be written as\n",
       "\\begin{equation}\n",
       "X_k = \\frac{e^{-j\\pi k}\\big(j\\pi k - e^{j\\pi k} + 1\\big)\n",
       "             - e^{j\\pi k}\\big(j\\pi k - 1\\big) - 1}{2\\pi^2k^2} + \\frac{1}{2}\\delta(k)\n",
       "\\end{equation}"
      ],
      "text/plain": [
       "<IPython.core.display.Latex object>"
      ]
     },
     "metadata": {},
     "output_type": "display_data"
    }
   ],
   "source": [
    "%%latex\n",
    "Let $x_2(t)$ be defined as\n",
    "\n",
    "\\begin{equation*}x_2(t) = \\sum_{n=-\\infty}^{\\infty} \\text{tri}(t-(2n+1))\\end{equation*}\n",
    "where $\\text{tri}(t)$ is the triangular pulse. This can be expressed as\n",
    "\\begin{equation}\n",
    "\\text{tri}(t) = \\text{rect}(t/2)(1-|t|)\n",
    "\\end{equation}\n",
    "The Fourier coefficients can be expressed as\n",
    "\\begin{equation}\n",
    "X_k = \\frac{1}{2} \\int_{-1}^{1} \\text{tri}(t)\\cdot e^{-j\\pi kt}dt\n",
    "\\end{equation}\n",
    "Further simplification yields the following\n",
    "\\begin{align*}\n",
    "X_k &= \\frac{1}{2}\\bigg[\\int_{-1}^{0} -t \\cdot e^{-j\\pi kt}dt\n",
    "        + \\int_{0}^{1} t \\cdot e^{-j\\pi kt}dt\\bigg]\n",
    "\\end{align*}\n",
    "which evaluates to\n",
    "\\begin{align*}\n",
    "X_k &= \\frac{e^{-j\\pi k}\\big(-j\\pi k + e^{j\\pi k} - 1\\big)\n",
    "             + e^{j\\pi k}\\big(j\\pi k - 1\\big) + 1}{-2\\pi^2k^2}\\\\\n",
    "X_k &= \\frac{e^{-j\\pi k}\\big(j\\pi k - e^{j\\pi k} + 1\\big)\n",
    "             - e^{j\\pi k}\\big(j\\pi k - 1\\big) - 1}{2\\pi^2k^2}\\\\\n",
    "X_k &= \\frac{e^{-j\\pi k}\\big(j\\pi k + 1\\big)\n",
    "             - e^{j\\pi k}\\big(j\\pi k - 1\\big) - 2}{2\\pi^2k^2}\\\\\n",
    "X_k &= \\frac{j\\pi k\\big(e^{j\\pi k} - e^{-j\\pi k}\\big) + \\big(e^{j\\pi k} + e^{-j\\pi k}\\big) - 2}{2\\pi^2k^2}\\\\\n",
    "X_k &= \\frac{j\\pi k\\big(2j\\sin(\\pi k)\\big) + \\big(2\\cos(\\pi k)\\big) - 2}{2\\pi^2k^2}\\\\\n",
    "X_k &= \\frac{2\\cos(\\pi k) -2\\pi k\\sin(\\pi k)  - 2}{2\\pi^2k^2}\\\\\n",
    "\\end{align*}\n",
    "It can be shown that $\\cos(\\pi k) = (-1)^k\\; \\forall k \\in \\mathbb{Z}$ and $\\sin(\\pi k) = 0\\; \\forall k \\in \\mathbb{Z}$.\n",
    "Therefore the Fourier coefficients become\n",
    "\\begin{equation}\n",
    "X_k = \\frac{-1 + (-1)^k}{\\pi^2k^2}\n",
    "\\end{equation}\n",
    "\n",
    "To find $X_0$ evaulate the integral definition for the Fourier coefficients\n",
    "with the limit $k\\to 0$ such that\n",
    "\\begin{align*}\n",
    "X_0 &= \\lim_{k\\to 0} \\frac{1}{2}\\bigg[\\int_{-1}^{0} -t \\cdot e^{-j\\pi kt}dt\n",
    "        + \\int_{0}^{1} t \\cdot e^{-j\\pi kt}dt\\bigg]\\\\\n",
    "X_0 &= \\frac{1}{2}\\bigg[\\int_{-1}^{0} -t dt\n",
    "        + \\int_{0}^{1} t dt\\bigg]\\\\\n",
    "X_0 &= \\frac{1}{2}\\bigg[\\frac{-t^2}{2}\\bigg|_{-1}^0\n",
    "        + \\frac{t^2}{t}\\bigg|_0^1\\bigg]\\\\\n",
    "X_0 &= \\frac{1}{2}\n",
    "\\end{align*}\n",
    "Therefore, $X_k$ can be written as\n",
    "\\begin{equation}\n",
    "X_k = \\frac{e^{-j\\pi k}\\big(j\\pi k - e^{j\\pi k} + 1\\big)\n",
    "             - e^{j\\pi k}\\big(j\\pi k - 1\\big) - 1}{2\\pi^2k^2} + \\frac{1}{2}\\delta(k)\n",
    "\\end{equation}"
   ]
  },
  {
   "cell_type": "code",
   "execution_count": 127,
   "metadata": {
    "collapsed": false,
    "scrolled": false
   },
   "outputs": [
    {
     "data": {
      "text/html": [
       "<iframe id=\"igraph\" scrolling=\"no\" style=\"border:none;\" seamless=\"seamless\" src=\"https://plot.ly/~blasinzw/76.embed\" height=\"525px\" width=\"100%\"></iframe>"
      ],
      "text/plain": [
       "<plotly.tools.PlotlyDisplay object>"
      ]
     },
     "execution_count": 127,
     "metadata": {},
     "output_type": "execute_result"
    }
   ],
   "source": [
    "\"\"\" Problem 2b \"\"\"    \n",
    "X_k = lambda k: (-1 + (-1)**k)/(np.pi**2 * (k+1E-9)**2)\n",
    "\n",
    "# Construct and plot signal\n",
    "x = construct_signal(lambda k: X_k(k) + 0.5*d(k), 2)\n",
    "t = np.arange(0.001, 2, 0.01)\n",
    "\n",
    "data = [go.Scatter(x=t, y=[x(time).real for time in t])]\n",
    "layout = go.Layout(xaxis=dict(title='Time (s)', showticklabels=True,\n",
    "                              tickmode='linear',\n",
    "                              tickangle=0,\n",
    "                              dtick=5),\n",
    "                   yaxis=dict(title='Amplitude x(t)'),\n",
    "                   title='Signal 2b')\n",
    "\n",
    "fig = go.Figure(data=data, layout=layout)\n",
    "\n",
    "\n",
    "py.iplot(fig, filename='signal_4.png')\n"
   ]
  },
  {
   "cell_type": "code",
   "execution_count": 134,
   "metadata": {
    "collapsed": false
   },
   "outputs": [
    {
     "data": {
      "text/html": [
       "<iframe id=\"igraph\" scrolling=\"no\" style=\"border:none;\" seamless=\"seamless\" src=\"https://plot.ly/~blasinzw/82.embed\" height=\"525px\" width=\"100%\"></iframe>"
      ],
      "text/plain": [
       "<plotly.tools.PlotlyDisplay object>"
      ]
     },
     "execution_count": 134,
     "metadata": {},
     "output_type": "execute_result"
    }
   ],
   "source": [
    "# ideal signal\n",
    "x_ideal = lambda t: 2 * np.abs(0.5*t - np.floor(0.5*t + 0.5))\n",
    "t = np.arange(0.001, 2, 0.01)\n",
    "\n",
    "num_components = np.arange(1,50,5)\n",
    "errors = [mean_squared_error(construct_signal(lambda k: X_k(k) + 0.5*d(k), 2, N=n)(t), x_ideal(t), N=n)\n",
    "          for n in num_components]\n",
    "\n",
    "data = [go.Scatter(x=num_components, y=errors)]\n",
    "layout = go.Layout(xaxis=dict(title='N', showticklabels=True,\n",
    "                              tickmode='linear',\n",
    "                              tickangle=0,\n",
    "                              dtick=5),\n",
    "                   yaxis=dict(title='Error',\n",
    "                              type='log'),\n",
    "                   title='Reconstruction Error 2b')\n",
    "\n",
    "fig = go.Figure(data=data, layout=layout)\n",
    "\n",
    "py.iplot(fig, filename='rec_err_2.png')"
   ]
  },
  {
   "cell_type": "code",
   "execution_count": 135,
   "metadata": {
    "collapsed": false
   },
   "outputs": [
    {
     "data": {
      "text/latex": [
       "Using the figure above it was found that the mean squared error equaled 0.01 at roughly 5 components and it equaled 0.001 at roughly 7 components. "
      ],
      "text/plain": [
       "<IPython.core.display.Latex object>"
      ]
     },
     "metadata": {},
     "output_type": "display_data"
    }
   ],
   "source": [
    "%%latex\n",
    "Using the figure above it was found that the mean squared error equaled 0.01 at roughly 5 components and it equaled 0.001 at roughly 7 components. "
   ]
  },
  {
   "cell_type": "code",
   "execution_count": null,
   "metadata": {
    "collapsed": true
   },
   "outputs": [],
   "source": []
  }
 ],
 "metadata": {
  "kernelspec": {
   "display_name": "Python 3",
   "language": "python",
   "name": "python3"
  },
  "language_info": {
   "codemirror_mode": {
    "name": "ipython",
    "version": 3
   },
   "file_extension": ".py",
   "mimetype": "text/x-python",
   "name": "python",
   "nbconvert_exporter": "python",
   "pygments_lexer": "ipython3",
   "version": "3.5.2"
  }
 },
 "nbformat": 4,
 "nbformat_minor": 0
}
